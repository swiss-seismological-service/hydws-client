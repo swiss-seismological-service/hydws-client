{
 "cells": [
  {
   "cell_type": "markdown",
   "metadata": {},
   "source": [
    "# HYDWS Client\n",
    "Hydraulic Web Service Client\n",
    "This client can be used to access the data from a Hydraulic Webservice more comfortably."
   ]
  },
  {
   "cell_type": "markdown",
   "metadata": {},
   "source": [
    "## Installation\n",
    "Currently the package needs to be installed via the github repository:\n",
    "```bash\n",
    "pip install git+https://gitlab.seismo.ethz.ch/indu/hydws-client.git\n",
    "```"
   ]
  },
  {
   "cell_type": "markdown",
   "metadata": {},
   "source": [
    "## Usage"
   ]
  },
  {
   "cell_type": "markdown",
   "metadata": {},
   "source": [
    "### Imports"
   ]
  },
  {
   "cell_type": "code",
   "execution_count": 14,
   "metadata": {
    "metadata": {}
   },
   "outputs": [],
   "source": [
    "from datetime import datetime\n",
    "\n",
    "from hydws.client import HYDWSDataSource\n",
    "from hydws.parser import BoreholeHydraulics, SectionHydraulics"
   ]
  },
  {
   "cell_type": "markdown",
   "metadata": {},
   "source": [
    "### TLDR; How to get the data?"
   ]
  },
  {
   "cell_type": "code",
   "execution_count": 15,
   "metadata": {
    "metadata": {}
   },
   "outputs": [],
   "source": [
    "hydws_url = 'http://scforge.ethz.ch:8081/hydws/v1'\n",
    "hydws = HYDWSDataSource(hydws_url)"
   ]
  },
  {
   "cell_type": "markdown",
   "metadata": {},
   "source": [
    "Assuming you know exactly what you want, you can use the following methods to get the data you need. Throughout, you can usually use the name and the id interchangeably. Let's assume we have the borehole id, and the section name."
   ]
  },
  {
   "cell_type": "code",
   "execution_count": 16,
   "metadata": {
    "metadata": {}
   },
   "outputs": [],
   "source": [
    "borehole_id = 'caf65646-8093-4aaf-989c-1c837f497667'\n",
    "section_name = '16A-32/section_03'\n",
    "hydraulics_start = datetime(2024, 4, 6, 1, 0, 0)\n",
    "hydraulics_end = datetime(2024, 4, 6, 1, 1, 0)"
   ]
  },
  {
   "cell_type": "markdown",
   "metadata": {},
   "source": [
    "The fastest way to get to the data, without caring about any metadata:"
   ]
  },
  {
   "cell_type": "code",
   "execution_count": 17,
   "metadata": {
    "metadata": {}
   },
   "outputs": [
    {
     "data": {
      "text/html": [
       "<div>\n",
       "<style scoped>\n",
       "    .dataframe tbody tr th:only-of-type {\n",
       "        vertical-align: middle;\n",
       "    }\n",
       "\n",
       "    .dataframe tbody tr th {\n",
       "        vertical-align: top;\n",
       "    }\n",
       "\n",
       "    .dataframe thead th {\n",
       "        text-align: right;\n",
       "    }\n",
       "</style>\n",
       "<table border=\"1\" class=\"dataframe\">\n",
       "  <thead>\n",
       "    <tr style=\"text-align: right;\">\n",
       "      <th></th>\n",
       "      <th>topflow</th>\n",
       "      <th>toppressure</th>\n",
       "    </tr>\n",
       "    <tr>\n",
       "      <th>datetime</th>\n",
       "      <th></th>\n",
       "      <th></th>\n",
       "    </tr>\n",
       "  </thead>\n",
       "  <tbody>\n",
       "    <tr>\n",
       "      <th>2024-04-06 01:00:00</th>\n",
       "      <td>0.212990</td>\n",
       "      <td>4.710498e+07</td>\n",
       "    </tr>\n",
       "    <tr>\n",
       "      <th>2024-04-06 01:00:01</th>\n",
       "      <td>0.212990</td>\n",
       "      <td>4.719461e+07</td>\n",
       "    </tr>\n",
       "    <tr>\n",
       "      <th>2024-04-06 01:00:02</th>\n",
       "      <td>0.212990</td>\n",
       "      <td>4.721530e+07</td>\n",
       "    </tr>\n",
       "    <tr>\n",
       "      <th>2024-04-06 01:00:03</th>\n",
       "      <td>0.212831</td>\n",
       "      <td>4.716703e+07</td>\n",
       "    </tr>\n",
       "    <tr>\n",
       "      <th>2024-04-06 01:00:04</th>\n",
       "      <td>0.212646</td>\n",
       "      <td>4.714635e+07</td>\n",
       "    </tr>\n",
       "    <tr>\n",
       "      <th>...</th>\n",
       "      <td>...</td>\n",
       "      <td>...</td>\n",
       "    </tr>\n",
       "    <tr>\n",
       "      <th>2024-04-06 01:00:56</th>\n",
       "      <td>0.213653</td>\n",
       "      <td>4.716703e+07</td>\n",
       "    </tr>\n",
       "    <tr>\n",
       "      <th>2024-04-06 01:00:57</th>\n",
       "      <td>0.213308</td>\n",
       "      <td>4.717393e+07</td>\n",
       "    </tr>\n",
       "    <tr>\n",
       "      <th>2024-04-06 01:00:58</th>\n",
       "      <td>0.213308</td>\n",
       "      <td>4.710498e+07</td>\n",
       "    </tr>\n",
       "    <tr>\n",
       "      <th>2024-04-06 01:00:59</th>\n",
       "      <td>0.213308</td>\n",
       "      <td>4.714635e+07</td>\n",
       "    </tr>\n",
       "    <tr>\n",
       "      <th>2024-04-06 01:01:00</th>\n",
       "      <td>0.213494</td>\n",
       "      <td>4.716014e+07</td>\n",
       "    </tr>\n",
       "  </tbody>\n",
       "</table>\n",
       "<p>61 rows × 2 columns</p>\n",
       "</div>"
      ],
      "text/plain": [
       "                      topflow   toppressure\n",
       "datetime                                   \n",
       "2024-04-06 01:00:00  0.212990  4.710498e+07\n",
       "2024-04-06 01:00:01  0.212990  4.719461e+07\n",
       "2024-04-06 01:00:02  0.212990  4.721530e+07\n",
       "2024-04-06 01:00:03  0.212831  4.716703e+07\n",
       "2024-04-06 01:00:04  0.212646  4.714635e+07\n",
       "...                       ...           ...\n",
       "2024-04-06 01:00:56  0.213653  4.716703e+07\n",
       "2024-04-06 01:00:57  0.213308  4.717393e+07\n",
       "2024-04-06 01:00:58  0.213308  4.710498e+07\n",
       "2024-04-06 01:00:59  0.213308  4.714635e+07\n",
       "2024-04-06 01:01:00  0.213494  4.716014e+07\n",
       "\n",
       "[61 rows x 2 columns]"
      ]
     },
     "execution_count": 17,
     "metadata": {},
     "output_type": "execute_result"
    }
   ],
   "source": [
    "hydraulics = hydws.get_section_hydraulics(borehole_id, section_name, hydraulics_start, hydraulics_end, format='pandas')\n",
    "hydraulics"
   ]
  },
  {
   "cell_type": "markdown",
   "metadata": {},
   "source": [
    "Otherwise, if you want the metadata, or need to parse a file containing `hydws`, or prefer an object with the borehole and/or section structure, you can use the hydws client together with `BoreholeHydraulics` and `SectionHydraulics` classes:"
   ]
  },
  {
   "cell_type": "markdown",
   "metadata": {},
   "source": [
    "If you just want to consider one Section, it's easiest to directly use the `SectionHydraulics` class:\n"
   ]
  },
  {
   "cell_type": "code",
   "execution_count": 18,
   "metadata": {
    "metadata": {}
   },
   "outputs": [
    {
     "data": {
      "text/html": [
       "<div>\n",
       "<style scoped>\n",
       "    .dataframe tbody tr th:only-of-type {\n",
       "        vertical-align: middle;\n",
       "    }\n",
       "\n",
       "    .dataframe tbody tr th {\n",
       "        vertical-align: top;\n",
       "    }\n",
       "\n",
       "    .dataframe thead th {\n",
       "        text-align: right;\n",
       "    }\n",
       "</style>\n",
       "<table border=\"1\" class=\"dataframe\">\n",
       "  <thead>\n",
       "    <tr style=\"text-align: right;\">\n",
       "      <th></th>\n",
       "      <th>topflow</th>\n",
       "      <th>toppressure</th>\n",
       "    </tr>\n",
       "    <tr>\n",
       "      <th>datetime</th>\n",
       "      <th></th>\n",
       "      <th></th>\n",
       "    </tr>\n",
       "  </thead>\n",
       "  <tbody>\n",
       "    <tr>\n",
       "      <th>2024-04-06 01:00:00</th>\n",
       "      <td>0.212990</td>\n",
       "      <td>4.710498e+07</td>\n",
       "    </tr>\n",
       "    <tr>\n",
       "      <th>2024-04-06 01:00:01</th>\n",
       "      <td>0.212990</td>\n",
       "      <td>4.719461e+07</td>\n",
       "    </tr>\n",
       "    <tr>\n",
       "      <th>2024-04-06 01:00:02</th>\n",
       "      <td>0.212990</td>\n",
       "      <td>4.721530e+07</td>\n",
       "    </tr>\n",
       "    <tr>\n",
       "      <th>2024-04-06 01:00:03</th>\n",
       "      <td>0.212831</td>\n",
       "      <td>4.716703e+07</td>\n",
       "    </tr>\n",
       "    <tr>\n",
       "      <th>2024-04-06 01:00:04</th>\n",
       "      <td>0.212646</td>\n",
       "      <td>4.714635e+07</td>\n",
       "    </tr>\n",
       "    <tr>\n",
       "      <th>...</th>\n",
       "      <td>...</td>\n",
       "      <td>...</td>\n",
       "    </tr>\n",
       "    <tr>\n",
       "      <th>2024-04-06 01:00:56</th>\n",
       "      <td>0.213653</td>\n",
       "      <td>4.716703e+07</td>\n",
       "    </tr>\n",
       "    <tr>\n",
       "      <th>2024-04-06 01:00:57</th>\n",
       "      <td>0.213308</td>\n",
       "      <td>4.717393e+07</td>\n",
       "    </tr>\n",
       "    <tr>\n",
       "      <th>2024-04-06 01:00:58</th>\n",
       "      <td>0.213308</td>\n",
       "      <td>4.710498e+07</td>\n",
       "    </tr>\n",
       "    <tr>\n",
       "      <th>2024-04-06 01:00:59</th>\n",
       "      <td>0.213308</td>\n",
       "      <td>4.714635e+07</td>\n",
       "    </tr>\n",
       "    <tr>\n",
       "      <th>2024-04-06 01:01:00</th>\n",
       "      <td>0.213494</td>\n",
       "      <td>4.716014e+07</td>\n",
       "    </tr>\n",
       "  </tbody>\n",
       "</table>\n",
       "<p>61 rows × 2 columns</p>\n",
       "</div>"
      ],
      "text/plain": [
       "                      topflow   toppressure\n",
       "datetime                                   \n",
       "2024-04-06 01:00:00  0.212990  4.710498e+07\n",
       "2024-04-06 01:00:01  0.212990  4.719461e+07\n",
       "2024-04-06 01:00:02  0.212990  4.721530e+07\n",
       "2024-04-06 01:00:03  0.212831  4.716703e+07\n",
       "2024-04-06 01:00:04  0.212646  4.714635e+07\n",
       "...                       ...           ...\n",
       "2024-04-06 01:00:56  0.213653  4.716703e+07\n",
       "2024-04-06 01:00:57  0.213308  4.717393e+07\n",
       "2024-04-06 01:00:58  0.213308  4.710498e+07\n",
       "2024-04-06 01:00:59  0.213308  4.714635e+07\n",
       "2024-04-06 01:01:00  0.213494  4.716014e+07\n",
       "\n",
       "[61 rows x 2 columns]"
      ]
     },
     "execution_count": 18,
     "metadata": {},
     "output_type": "execute_result"
    }
   ],
   "source": [
    "section_json = hydws.get_section(borehole_id, section_name, hydraulics_start, hydraulics_end)\n",
    "section = SectionHydraulics(section_json)\n",
    "\n",
    "section.metadata # to access the metadata of the section\n",
    "section.hydraulics # to access the hydraulic data as a dataframe"
   ]
  },
  {
   "cell_type": "markdown",
   "metadata": {},
   "source": [
    "If you prefer to directly get all the metadata and hydraulic data of a Borehole for a given time, use the following methods:"
   ]
  },
  {
   "cell_type": "code",
   "execution_count": 19,
   "metadata": {
    "metadata": {}
   },
   "outputs": [
    {
     "data": {
      "text/plain": [
       "{'publicid': 'caf65646-8093-4aaf-989c-1c837f497667',\n",
       " 'description': 'Well 16A-32',\n",
       " 'name': '16A-32',\n",
       " 'location': 'FORGE',\n",
       " 'institution': 'FORGE Utah',\n",
       " 'measureddepth': {'value': 3339.1},\n",
       " 'bedrockaltitude': {'value': 0.0},\n",
       " 'altitude': {'value': 1650.02},\n",
       " 'latitude': {'value': -112.906857},\n",
       " 'longitude': {'value': 38.506874},\n",
       " 'creationinfo': {'creationtime': '2024-04-01T22:40:47.911589'}}"
      ]
     },
     "execution_count": 19,
     "metadata": {},
     "output_type": "execute_result"
    }
   ],
   "source": [
    "# Get Borehole, containing all of its sections and their hydraulic data for the given time range\n",
    "borehole_json = hydws.get_borehole(borehole_id, hydraulics_start, hydraulics_end)\n",
    "borehole = BoreholeHydraulics(borehole_json)\n",
    "\n",
    "borehole.metadata # to access the metadata of the borehole"
   ]
  },
  {
   "cell_type": "markdown",
   "metadata": {},
   "source": [
    "Accessing the sections inside a borehole, can be done using the publicid as a dict key, or by using the section name and the `nloc` attribute:"
   ]
  },
  {
   "cell_type": "code",
   "execution_count": 20,
   "metadata": {
    "metadata": {}
   },
   "outputs": [
    {
     "data": {
      "text/html": [
       "<div>\n",
       "<style scoped>\n",
       "    .dataframe tbody tr th:only-of-type {\n",
       "        vertical-align: middle;\n",
       "    }\n",
       "\n",
       "    .dataframe tbody tr th {\n",
       "        vertical-align: top;\n",
       "    }\n",
       "\n",
       "    .dataframe thead th {\n",
       "        text-align: right;\n",
       "    }\n",
       "</style>\n",
       "<table border=\"1\" class=\"dataframe\">\n",
       "  <thead>\n",
       "    <tr style=\"text-align: right;\">\n",
       "      <th></th>\n",
       "      <th>topflow</th>\n",
       "      <th>toppressure</th>\n",
       "    </tr>\n",
       "    <tr>\n",
       "      <th>datetime</th>\n",
       "      <th></th>\n",
       "      <th></th>\n",
       "    </tr>\n",
       "  </thead>\n",
       "  <tbody>\n",
       "    <tr>\n",
       "      <th>2024-04-06 01:00:00</th>\n",
       "      <td>0.212990</td>\n",
       "      <td>4.710498e+07</td>\n",
       "    </tr>\n",
       "    <tr>\n",
       "      <th>2024-04-06 01:00:01</th>\n",
       "      <td>0.212990</td>\n",
       "      <td>4.719461e+07</td>\n",
       "    </tr>\n",
       "    <tr>\n",
       "      <th>2024-04-06 01:00:02</th>\n",
       "      <td>0.212990</td>\n",
       "      <td>4.721530e+07</td>\n",
       "    </tr>\n",
       "    <tr>\n",
       "      <th>2024-04-06 01:00:03</th>\n",
       "      <td>0.212831</td>\n",
       "      <td>4.716703e+07</td>\n",
       "    </tr>\n",
       "    <tr>\n",
       "      <th>2024-04-06 01:00:04</th>\n",
       "      <td>0.212646</td>\n",
       "      <td>4.714635e+07</td>\n",
       "    </tr>\n",
       "    <tr>\n",
       "      <th>...</th>\n",
       "      <td>...</td>\n",
       "      <td>...</td>\n",
       "    </tr>\n",
       "    <tr>\n",
       "      <th>2024-04-06 01:00:56</th>\n",
       "      <td>0.213653</td>\n",
       "      <td>4.716703e+07</td>\n",
       "    </tr>\n",
       "    <tr>\n",
       "      <th>2024-04-06 01:00:57</th>\n",
       "      <td>0.213308</td>\n",
       "      <td>4.717393e+07</td>\n",
       "    </tr>\n",
       "    <tr>\n",
       "      <th>2024-04-06 01:00:58</th>\n",
       "      <td>0.213308</td>\n",
       "      <td>4.710498e+07</td>\n",
       "    </tr>\n",
       "    <tr>\n",
       "      <th>2024-04-06 01:00:59</th>\n",
       "      <td>0.213308</td>\n",
       "      <td>4.714635e+07</td>\n",
       "    </tr>\n",
       "    <tr>\n",
       "      <th>2024-04-06 01:01:00</th>\n",
       "      <td>0.213494</td>\n",
       "      <td>4.716014e+07</td>\n",
       "    </tr>\n",
       "  </tbody>\n",
       "</table>\n",
       "<p>61 rows × 2 columns</p>\n",
       "</div>"
      ],
      "text/plain": [
       "                      topflow   toppressure\n",
       "datetime                                   \n",
       "2024-04-06 01:00:00  0.212990  4.710498e+07\n",
       "2024-04-06 01:00:01  0.212990  4.719461e+07\n",
       "2024-04-06 01:00:02  0.212990  4.721530e+07\n",
       "2024-04-06 01:00:03  0.212831  4.716703e+07\n",
       "2024-04-06 01:00:04  0.212646  4.714635e+07\n",
       "...                       ...           ...\n",
       "2024-04-06 01:00:56  0.213653  4.716703e+07\n",
       "2024-04-06 01:00:57  0.213308  4.717393e+07\n",
       "2024-04-06 01:00:58  0.213308  4.710498e+07\n",
       "2024-04-06 01:00:59  0.213308  4.714635e+07\n",
       "2024-04-06 01:01:00  0.213494  4.716014e+07\n",
       "\n",
       "[61 rows x 2 columns]"
      ]
     },
     "execution_count": 20,
     "metadata": {},
     "output_type": "execute_result"
    }
   ],
   "source": [
    "section_id = '37801a57-90b9-4fb5-83d7-506ee9166acf'\n",
    "\n",
    "section = borehole[section_id] # use the section id as a key to access the section\n",
    "section = borehole.nloc[section_name] # use the section name as a key to access the section\n",
    "section.hydraulics"
   ]
  },
  {
   "cell_type": "markdown",
   "metadata": {},
   "source": [
    "### Navigating Boreholes, Sections and Metadata\n",
    "\n",
    "If you don't exactly know which names or publicids there are, you can use the following methods to display the available boreholes and sections."
   ]
  },
  {
   "cell_type": "code",
   "execution_count": 21,
   "metadata": {
    "metadata": {}
   },
   "outputs": [
    {
     "data": {
      "text/plain": [
       "['16A-32', '16B-32']"
      ]
     },
     "execution_count": 21,
     "metadata": {},
     "output_type": "execute_result"
    }
   ],
   "source": [
    "borehole_metadata_all = hydws.list_boreholes() # returns all metadata\n",
    "borehole_names = hydws.list_borehole_names() # only returns name, publicid or both (default is name)\n",
    "borehole_names"
   ]
  },
  {
   "cell_type": "markdown",
   "metadata": {},
   "source": [
    "The first column is the name of the borehole, the second one its public ID. It's generally possible to use either of the two for all of the following functions. The same applies to the section names and their IDs."
   ]
  },
  {
   "cell_type": "code",
   "execution_count": 22,
   "metadata": {
    "metadata": {}
   },
   "outputs": [
    {
     "data": {
      "text/plain": [
       "['16A-32/section_01', '16A-32/section_02', '16A-32/section_03']"
      ]
     },
     "execution_count": 22,
     "metadata": {},
     "output_type": "execute_result"
    }
   ],
   "source": [
    "section_metadata_all = hydws.list_sections(borehole_names[0]) # returns all metadata\n",
    "section_names = hydws.list_section_names(borehole_names[0]) # only returns name, publicid or both (default is name)\n",
    "section_names"
   ]
  },
  {
   "cell_type": "markdown",
   "metadata": {},
   "source": [
    "It is also possible to use the`get_borehole_metadata` or the `get_section_metadata` functions to get the metadata of a specific borehole or section.\n"
   ]
  },
  {
   "cell_type": "code",
   "execution_count": 23,
   "metadata": {
    "metadata": {}
   },
   "outputs": [
    {
     "data": {
      "text/plain": [
       "{'publicid': '8eb6ce9a-247d-4675-8647-880841bb9531',\n",
       " 'starttime': '2022-04-17T02:35:57',\n",
       " 'endtime': '2022-04-17T05:50:13',\n",
       " 'topclosed': True,\n",
       " 'bottomclosed': True,\n",
       " 'description': '200 ft long open hole section at the toe of the well',\n",
       " 'name': '16A-32/section_01',\n",
       " 'hydraulics': [],\n",
       " 'casingdiameter': {},\n",
       " 'holediameter': {},\n",
       " 'bottommeasureddepth': {'value': 3339.09},\n",
       " 'topmeasureddepth': {'value': 3278.13},\n",
       " 'bottomaltitude': {'value': -958.71},\n",
       " 'bottomlatitude': {'value': 38.504462},\n",
       " 'bottomlongitude': {'value': -112.893086},\n",
       " 'topaltitude': {'value': -936.3276802186539},\n",
       " 'toplatitude': {'value': 38.50454148787154},\n",
       " 'toplongitude': {'value': -112.89372764195421}}"
      ]
     },
     "execution_count": 23,
     "metadata": {},
     "output_type": "execute_result"
    }
   ],
   "source": [
    "borehole_metadata = hydws.get_borehole_metadata(borehole_names[0])\n",
    "section_metadata = hydws.get_section_metadata(borehole_names[0], section_names[0])\n",
    "section_metadata"
   ]
  },
  {
   "cell_type": "markdown",
   "metadata": {},
   "source": []
  }
 ],
 "metadata": {
  "kernelspec": {
   "display_name": "env",
   "language": "python",
   "name": "python3"
  },
  "language_info": {
   "codemirror_mode": {
    "name": "ipython",
    "version": 3
   },
   "file_extension": ".py",
   "mimetype": "text/x-python",
   "name": "python",
   "nbconvert_exporter": "python",
   "pygments_lexer": "ipython3",
   "version": "3.10.14"
  }
 },
 "nbformat": 4,
 "nbformat_minor": 2
}
